{
 "cells": [
  {
   "cell_type": "markdown",
   "metadata": {},
   "source": [
    "## Music Merlin Classifier 🧙‍♂️\n",
    "**Genre Classification for Spotify Songs**\n",
    "\n",
    "The goal of this project is to use supervised learning to classify a track based on its features into 1 of 6 genres: Pop, Hip-Hop/Rap, Alt/Indie, Rock, Jazz, and Classical."
   ]
  },
  {
   "cell_type": "markdown",
   "metadata": {},
   "source": [
    "### Imports 📃"
   ]
  },
  {
   "cell_type": "code",
   "execution_count": 1,
   "metadata": {},
   "outputs": [],
   "source": [
    "import spotipy\n",
    "import pandas as pd\n",
    "import numpy as np\n",
    "import os\n",
    "import datetime as dt\n",
    "from spotipy.oauth2 import SpotifyOAuth\n",
    "from matplotlib import pyplot as plt\n",
    "from sklearn.model_selection import train_test_split, cross_validate, GridSearchCV, RandomizedSearchCV\n",
    "from sklearn.pipeline import Pipeline\n",
    "from sklearn.compose import ColumnTransformer\n",
    "from sklearn.feature_extraction.text import CountVectorizer\n",
    "from sklearn.preprocessing import StandardScaler\n",
    "from sklearn.dummy import DummyClassifier\n",
    "from sklearn.linear_model import LogisticRegression\n",
    "from sklearn.ensemble import RandomForestClassifier\n",
    "from lightgbm import LGBMClassifier\n",
    "from sklearn.metrics import classification_report\n",
    "from collections import namedtuple"
   ]
  },
  {
   "cell_type": "markdown",
   "metadata": {},
   "source": [
    "### Data Extraction 💾\n",
    "\n",
    "We can pull data from playlists curated to each genre, and label each sample according to which genre of playlist it was pulled from. For example, training data from the `POP` class will come from playlists in the `POP` genre below."
   ]
  },
  {
   "cell_type": "code",
   "execution_count": 2,
   "metadata": {},
   "outputs": [],
   "source": [
    "Playlist = namedtuple('Playlist', ['username', 'playlist_id'])\n",
    "\n",
    "POP = 'Pop'\n",
    "HIP_HOP = 'Hip-Hop-Rap'\n",
    "ALT_IND = 'Alt-Indie'\n",
    "ROCK = 'Rock'\n",
    "JAZZ = 'Jazz'\n",
    "CLASSICAL = 'Classical'\n",
    "\n",
    "GENRES = {\n",
    "    POP: [\n",
    "        Playlist('spotify', '37i9dQZF1DXcOFePJj4Rgb'),\n",
    "        Playlist('spotify', '37i9dQZF1DXarRysLJmuju'),\n",
    "        Playlist('spotify', '37i9dQZF1DX2L0iB23Enbq'),\n",
    "        Playlist('spotify', '37i9dQZF1DXcRXFNfZr7Tp')\n",
    "    ],\n",
    "    HIP_HOP: [\n",
    "        Playlist('spotify', '37i9dQZF1DWY6tYEFs22tT'),\n",
    "        Playlist('spotify', '37i9dQZF1DX0XUsuxWHRQd'),\n",
    "        Playlist('spotify', '37i9dQZF1DX48TTZL62Yht'),\n",
    "        Playlist('spotify', '37i9dQZF1DX9oh43oAzkyx')\n",
    "    ],\n",
    "    ALT_IND: [\n",
    "        Playlist('spotify', '37i9dQZF1DX9GRpeH4CL0S'),\n",
    "        Playlist('spotify', '37i9dQZF1DWZP6bJtKFz1V'),\n",
    "        Playlist('spotify', '37i9dQZF1DX26DKvjp0s9M'),\n",
    "        Playlist('spotify', '37i9dQZF1DXcZ6y0ulQ9Gz')\n",
    "    ],\n",
    "    ROCK: [\n",
    "        Playlist('spotify', '37i9dQZF1DWXRqgorJj26U'),\n",
    "        Playlist('spotify', '37i9dQZF1DX11ghcIxjcjE'),\n",
    "        Playlist('spotify', '37i9dQZF1DWWOaP4H0w5b0'),\n",
    "        Playlist('spotify', '37i9dQZF1DWWRktbhJiuqL')\n",
    "    ],\n",
    "    JAZZ: [\n",
    "        Playlist('spotify', '37i9dQZF1DXbITWG1ZJKYt'),\n",
    "        Playlist('spotify', '37i9dQZF1DWXSyfX6gqDNp'),\n",
    "        Playlist('spotify', '37i9dQZF1DXdwTUxmGKrdN'),\n",
    "        Playlist('spotify', '37i9dQZF1DWVfUtaeUAwqa')          \n",
    "    ],\n",
    "    CLASSICAL: [\n",
    "        Playlist('spotify', '37i9dQZF1DWWEJlAGA9gs0'),\n",
    "        Playlist('peacefulclassics', '1h0CEZCm6IbFTbxThn6Xcs'),\n",
    "        Playlist('spotify', '37i9dQZF1DX7dzHXrANAir'),\n",
    "        Playlist('wijayadriansyah', '2bKGFDfzL8eD9XgH4IsQPC'),\n",
    "    ]\n",
    "}\n",
    "\n",
    "GENRE_MAPPINGS = {\n",
    "    POP: 0,\n",
    "    HIP_HOP: 1,\n",
    "    ALT_IND: 2,\n",
    "    ROCK: 3,\n",
    "    JAZZ: 4,\n",
    "    CLASSICAL: 5\n",
    "}"
   ]
  },
  {
   "cell_type": "markdown",
   "metadata": {},
   "source": [
    "The following class allows us to quickly and easily download the data we need into CSV files.\n",
    "\n",
    "Note, you will need to obtain a `CLIENT_ID` and `CLIENT_SECRET` from [Spotify](https://developer.spotify.com/dashboard/login), and add these to your environment variables. This is to access the Spotify API."
   ]
  },
  {
   "cell_type": "code",
   "execution_count": 3,
   "metadata": {},
   "outputs": [],
   "source": [
    "class PlaylistDataDownloader:\n",
    "    \n",
    "    def __init__(self, genres):\n",
    "        self.client_id = os.environ['CLIENT_ID']\n",
    "        self.client_secret = os.environ['CLIENT_SECRET']\n",
    "        self.redirect_uri = 'http://localhost:8080/'\n",
    "        self.scope = 'user-library-read'\n",
    "        self.sp = spotipy.Spotify(auth_manager=SpotifyOAuth(scope=self.scope, client_id=self.client_id, client_secret=self.client_secret, redirect_uri=self.redirect_uri))\n",
    "        self.genres = genres\n",
    "    \n",
    "    def get_playlist_tracks_in_batches(self, results):\n",
    "        batches = []\n",
    "        while True:\n",
    "            is_last_batch = (results['next'] == None)\n",
    "            batches.append(results['items'])\n",
    "            if is_last_batch:\n",
    "                break;\n",
    "            else:\n",
    "                results = self.sp.next(results)\n",
    "                \n",
    "        return batches\n",
    "    \n",
    "    def download_playlist_data(self, playlist):\n",
    "        results = self.sp.user_playlist_tracks(playlist.username, playlist.playlist_id)\n",
    "        batches = self.get_playlist_tracks_in_batches(results)\n",
    "              \n",
    "        data = {\n",
    "            'title': [], 'artists': [], 'album': [], 'duration_ms': [], 'release_date': [], 'artist_genres': [], 'explicit': [], 'popularity': [], \n",
    "            'danceability': [], 'energy': [], 'key': [], 'loudness': [], 'mode': [], 'speechiness': [], 'acousticness': [], 'instrumentalness': [],\n",
    "            'liveness': [], 'valence': [], 'tempo': [], 'time_signature': [], 'uri': []\n",
    "        }\n",
    "\n",
    "        for batch in batches:\n",
    "\n",
    "            # Get basic features for a batch\n",
    "            for item in batch:\n",
    "\n",
    "                track = item['track']\n",
    "                artists = track['artists']\n",
    "                album = track['album']\n",
    "\n",
    "                # title\n",
    "                data['title'].append(track['name'])\n",
    "                # artists\n",
    "                data['artists'].append(', '.join([artist['name'] for artist in artists]))\n",
    "                # album\n",
    "                data['album'].append(album['name'])\n",
    "                # release_date\n",
    "                data['release_date'].append(pd.to_datetime(album['release_date']))\n",
    "                # artist_genres\n",
    "                artist_genres = []\n",
    "                for artist in artists:\n",
    "                    genres = self.sp.artist(artist['external_urls']['spotify'])['genres']\n",
    "                    artist_genres += genres\n",
    "                artist_genres = ', '.join(set(artist_genres))\n",
    "                data['artist_genres'].append(artist_genres)\n",
    "                # explicit\n",
    "                data['explicit'].append(track['explicit'])\n",
    "                # popularity\n",
    "                data['popularity'].append(track['popularity'])\n",
    "\n",
    "            # Get more advanced audio features for a batch\n",
    "            uris = [item['track']['uri'] for item in batch]\n",
    "            track_features = self.sp.audio_features(uris)\n",
    "            for features in track_features:\n",
    "                keys = ['duration_ms', 'danceability', 'energy', 'key', 'loudness', 'mode', 'speechiness', 'acousticness',\n",
    "                        'instrumentalness', 'liveness', 'valence', 'tempo', 'time_signature', 'uri']\n",
    "                for key in keys:\n",
    "                    data[key].append(features[key])\n",
    "\n",
    "        return pd.DataFrame(data=data, index=range(len(data['uri'])), columns=data.keys())\n",
    "    \n",
    "    def download_genre_data(self):\n",
    "        for genre in self.genres:\n",
    "            genre_df = pd.DataFrame()\n",
    "            for playlist in self.genres[genre]:\n",
    "                playlist_df = self.download_playlist_data(playlist)\n",
    "                genre_df = pd.concat([genre_df, playlist_df], ignore_index=True)\n",
    "            genre_df['genre'] = [genre for _ in range(len(genre_df))]\n",
    "            genre_df.to_csv(f'Data/{genre}.csv')"
   ]
  },
  {
   "cell_type": "markdown",
   "metadata": {},
   "source": [
    "The below code can be commented out once the data has been downloaded."
   ]
  },
  {
   "cell_type": "code",
   "execution_count": 1,
   "metadata": {},
   "outputs": [],
   "source": [
    "# downloader = PlaylistDataDownloader(GENRES)\n",
    "# downloader.download_genre_data()"
   ]
  },
  {
   "cell_type": "markdown",
   "metadata": {},
   "source": [
    "Once downloaded, we can combine the data from all genres, and remove tracks that come from different playlists within a genre, but have the same title and artist, as these are duplicates that could artificially skew the data."
   ]
  },
  {
   "cell_type": "code",
   "execution_count": 5,
   "metadata": {},
   "outputs": [],
   "source": [
    "track_df = pd.DataFrame()\n",
    "for genre in GENRES:\n",
    "    genre_df = pd.read_csv(f'Data/{genre}.csv')\n",
    "    genre_df = genre_df.sort_values('popularity', ascending=False).drop_duplicates(subset=['title', 'artists'])\n",
    "    track_df = pd.concat([track_df, genre_df], ignore_index=True)"
   ]
  },
  {
   "cell_type": "markdown",
   "metadata": {},
   "source": [
    "Finally, we do a bit of feature engineering to deal with null values, dates, boolean values, and our categorical target value `genre`."
   ]
  },
  {
   "cell_type": "code",
   "execution_count": 6,
   "metadata": {},
   "outputs": [],
   "source": [
    "track_df = track_df.drop(track_df.columns[0], axis=1)                                                                                # Remove redundant index column\n",
    "track_df['release_date'] = track_df['release_date'].apply(lambda release_date: abs(dt.datetime.now().year - int(release_date[0:4]))) # Convert date to years since release\n",
    "track_df = track_df.rename(columns={'release_date': 'years_since_release'})\n",
    "track_df['explicit'] = track_df['explicit'].astype(int)                                                                              # Convert 'explicit' from boolean to int\n",
    "track_df['genre'] = track_df['genre'].apply(lambda genre: GENRE_MAPPINGS[genre])                                                     # Convert 'genre' from string to int\n",
    "track_df = track_df.dropna()"
   ]
  },
  {
   "cell_type": "markdown",
   "metadata": {},
   "source": [
    "### Train/Test Split ✂\n",
    "\n",
    "We immediately split train/test data to ensure we do not taint the test set. We use a random stratified split to ensure even distribution of target classes between train and test."
   ]
  },
  {
   "cell_type": "code",
   "execution_count": 7,
   "metadata": {},
   "outputs": [],
   "source": [
    "drop_features = ['title', 'artists', 'album', 'uri']\n",
    "text_feature = 'artist_genres'\n",
    "scale_features = ['duration_ms', 'years_since_release', 'popularity',\n",
    "                  'danceability', 'energy', 'loudness', 'speechiness',\n",
    "                  'acousticness', 'instrumentalness', 'liveness',\n",
    "                  'valence', 'tempo']\n",
    "passthrough_features = ['explicit', 'key', 'mode', 'time_signature']\n",
    "\n",
    "X = track_df.drop(columns=drop_features + ['genre'])\n",
    "y = track_df['genre']\n",
    "X_train, X_test, y_train, y_test = train_test_split(X, y, test_size=0.2, random_state=123, shuffle=True, stratify=y)"
   ]
  },
  {
   "cell_type": "markdown",
   "metadata": {},
   "source": [
    "### Exploratory Analysis 🔍\n",
    "\n",
    "We can now conduct exploratory data analysis on our input, `X_train`.\n",
    "\n",
    "#### Features\n",
    "Our input features are:\n",
    "* `duration_ms`: Duration of the track, in milliseconds\n",
    "* `years_since_release`: Years since track was released\n",
    "* `artist_genres`: List of genres associated with the artist\n",
    "* `explicit`: Whether the song is explicit or not\n",
    "* `popularity`: How popular the song is, \\[0 - 100\\]\n",
    "* `danceability`: How suitable a track is for dancing, \\[0 - 1\\]\n",
    "* `energy`: How energetic a track is, \\[0 - 1\\]\n",
    "* `key`: Key of the track\n",
    "* `loudness`: How loud the track is, \\[0 - 1\\]\n",
    "* `mode`: Whether the track is major or minor\n",
    "* `speechiness`: Presence of spoken word, \\[0 - 1\\]\n",
    "* `acousticness`: How acoustic the track sounds, \\[0 - 1\\]\n",
    "* `instrumentalness`: How likely the track is to contain no vocals, \\[0 - 1\\]\n",
    "* `liveness`: Whether there is an audience in the recording, \\[0 - 1\\]\n",
    "* `valence`: How positive or negative the track sounds, \\[0 - 1\\]\n",
    "* `tempo`: Estimated tempo at which the track is performed, \\[0 - 1\\] \n",
    "* `time_signature`: Estimated time signature of the track\n",
    "\n",
    "Our output feature is:\n",
    "* `genre`: The genre of a track, represented by categories \\[0 - 5\\]\n",
    "\n",
    "Let's explore these training features:"
   ]
  },
  {
   "cell_type": "code",
   "execution_count": 8,
   "metadata": {},
   "outputs": [
    {
     "data": {
      "text/html": [
       "<div>\n",
       "<style scoped>\n",
       "    .dataframe tbody tr th:only-of-type {\n",
       "        vertical-align: middle;\n",
       "    }\n",
       "\n",
       "    .dataframe tbody tr th {\n",
       "        vertical-align: top;\n",
       "    }\n",
       "\n",
       "    .dataframe thead th {\n",
       "        text-align: right;\n",
       "    }\n",
       "</style>\n",
       "<table border=\"1\" class=\"dataframe\">\n",
       "  <thead>\n",
       "    <tr style=\"text-align: right;\">\n",
       "      <th></th>\n",
       "      <th>duration_ms</th>\n",
       "      <th>years_since_release</th>\n",
       "      <th>artist_genres</th>\n",
       "      <th>explicit</th>\n",
       "      <th>popularity</th>\n",
       "      <th>danceability</th>\n",
       "      <th>energy</th>\n",
       "      <th>key</th>\n",
       "      <th>loudness</th>\n",
       "      <th>mode</th>\n",
       "      <th>speechiness</th>\n",
       "      <th>acousticness</th>\n",
       "      <th>instrumentalness</th>\n",
       "      <th>liveness</th>\n",
       "      <th>valence</th>\n",
       "      <th>tempo</th>\n",
       "      <th>time_signature</th>\n",
       "    </tr>\n",
       "  </thead>\n",
       "  <tbody>\n",
       "    <tr>\n",
       "      <th>544</th>\n",
       "      <td>172967</td>\n",
       "      <td>0</td>\n",
       "      <td>chicago drill, southern hip hop, rap, chicago ...</td>\n",
       "      <td>1</td>\n",
       "      <td>54</td>\n",
       "      <td>0.849</td>\n",
       "      <td>0.834</td>\n",
       "      <td>2</td>\n",
       "      <td>-4.642</td>\n",
       "      <td>1</td>\n",
       "      <td>0.2310</td>\n",
       "      <td>0.012300</td>\n",
       "      <td>0.000000</td>\n",
       "      <td>0.307</td>\n",
       "      <td>0.517</td>\n",
       "      <td>133.971</td>\n",
       "      <td>4</td>\n",
       "    </tr>\n",
       "    <tr>\n",
       "      <th>1597</th>\n",
       "      <td>306200</td>\n",
       "      <td>51</td>\n",
       "      <td>bebop, soul jazz, hard bop, jazz trio, jazz, c...</td>\n",
       "      <td>0</td>\n",
       "      <td>41</td>\n",
       "      <td>0.378</td>\n",
       "      <td>0.232</td>\n",
       "      <td>0</td>\n",
       "      <td>-18.050</td>\n",
       "      <td>1</td>\n",
       "      <td>0.0303</td>\n",
       "      <td>0.870000</td>\n",
       "      <td>0.948000</td>\n",
       "      <td>0.100</td>\n",
       "      <td>0.155</td>\n",
       "      <td>148.531</td>\n",
       "      <td>4</td>\n",
       "    </tr>\n",
       "    <tr>\n",
       "      <th>917</th>\n",
       "      <td>226693</td>\n",
       "      <td>7</td>\n",
       "      <td>indie rock, indietronica, modern alternative r...</td>\n",
       "      <td>0</td>\n",
       "      <td>46</td>\n",
       "      <td>0.522</td>\n",
       "      <td>0.934</td>\n",
       "      <td>5</td>\n",
       "      <td>-5.030</td>\n",
       "      <td>0</td>\n",
       "      <td>0.0617</td>\n",
       "      <td>0.000021</td>\n",
       "      <td>0.003990</td>\n",
       "      <td>0.253</td>\n",
       "      <td>0.304</td>\n",
       "      <td>135.052</td>\n",
       "      <td>4</td>\n",
       "    </tr>\n",
       "    <tr>\n",
       "      <th>870</th>\n",
       "      <td>153081</td>\n",
       "      <td>0</td>\n",
       "      <td>indie pop, nyc pop, alt z</td>\n",
       "      <td>0</td>\n",
       "      <td>53</td>\n",
       "      <td>0.717</td>\n",
       "      <td>0.477</td>\n",
       "      <td>7</td>\n",
       "      <td>-9.677</td>\n",
       "      <td>1</td>\n",
       "      <td>0.0631</td>\n",
       "      <td>0.392000</td>\n",
       "      <td>0.000003</td>\n",
       "      <td>0.115</td>\n",
       "      <td>0.610</td>\n",
       "      <td>89.987</td>\n",
       "      <td>4</td>\n",
       "    </tr>\n",
       "    <tr>\n",
       "      <th>1391</th>\n",
       "      <td>161627</td>\n",
       "      <td>5</td>\n",
       "      <td>metalcore, nu metal, hardcore, connecticut har...</td>\n",
       "      <td>1</td>\n",
       "      <td>0</td>\n",
       "      <td>0.487</td>\n",
       "      <td>0.987</td>\n",
       "      <td>1</td>\n",
       "      <td>-4.710</td>\n",
       "      <td>1</td>\n",
       "      <td>0.0812</td>\n",
       "      <td>0.000651</td>\n",
       "      <td>0.050600</td>\n",
       "      <td>0.284</td>\n",
       "      <td>0.499</td>\n",
       "      <td>180.065</td>\n",
       "      <td>4</td>\n",
       "    </tr>\n",
       "  </tbody>\n",
       "</table>\n",
       "</div>"
      ],
      "text/plain": [
       "      duration_ms  years_since_release  \\\n",
       "544        172967                    0   \n",
       "1597       306200                   51   \n",
       "917        226693                    7   \n",
       "870        153081                    0   \n",
       "1391       161627                    5   \n",
       "\n",
       "                                          artist_genres  explicit  popularity  \\\n",
       "544   chicago drill, southern hip hop, rap, chicago ...         1          54   \n",
       "1597  bebop, soul jazz, hard bop, jazz trio, jazz, c...         0          41   \n",
       "917   indie rock, indietronica, modern alternative r...         0          46   \n",
       "870                           indie pop, nyc pop, alt z         0          53   \n",
       "1391  metalcore, nu metal, hardcore, connecticut har...         1           0   \n",
       "\n",
       "      danceability  energy  key  loudness  mode  speechiness  acousticness  \\\n",
       "544          0.849   0.834    2    -4.642     1       0.2310      0.012300   \n",
       "1597         0.378   0.232    0   -18.050     1       0.0303      0.870000   \n",
       "917          0.522   0.934    5    -5.030     0       0.0617      0.000021   \n",
       "870          0.717   0.477    7    -9.677     1       0.0631      0.392000   \n",
       "1391         0.487   0.987    1    -4.710     1       0.0812      0.000651   \n",
       "\n",
       "      instrumentalness  liveness  valence    tempo  time_signature  \n",
       "544           0.000000     0.307    0.517  133.971               4  \n",
       "1597          0.948000     0.100    0.155  148.531               4  \n",
       "917           0.003990     0.253    0.304  135.052               4  \n",
       "870           0.000003     0.115    0.610   89.987               4  \n",
       "1391          0.050600     0.284    0.499  180.065               4  "
      ]
     },
     "execution_count": 8,
     "metadata": {},
     "output_type": "execute_result"
    }
   ],
   "source": [
    "X_train.head()"
   ]
  },
  {
   "cell_type": "markdown",
   "metadata": {},
   "source": [
    "Information on each feature:"
   ]
  },
  {
   "cell_type": "code",
   "execution_count": 9,
   "metadata": {},
   "outputs": [
    {
     "name": "stdout",
     "output_type": "stream",
     "text": [
      "<class 'pandas.core.frame.DataFrame'>\n",
      "Int64Index: 1620 entries, 544 to 1395\n",
      "Data columns (total 17 columns):\n",
      " #   Column               Non-Null Count  Dtype  \n",
      "---  ------               --------------  -----  \n",
      " 0   duration_ms          1620 non-null   int64  \n",
      " 1   years_since_release  1620 non-null   int64  \n",
      " 2   artist_genres        1620 non-null   object \n",
      " 3   explicit             1620 non-null   int32  \n",
      " 4   popularity           1620 non-null   int64  \n",
      " 5   danceability         1620 non-null   float64\n",
      " 6   energy               1620 non-null   float64\n",
      " 7   key                  1620 non-null   int64  \n",
      " 8   loudness             1620 non-null   float64\n",
      " 9   mode                 1620 non-null   int64  \n",
      " 10  speechiness          1620 non-null   float64\n",
      " 11  acousticness         1620 non-null   float64\n",
      " 12  instrumentalness     1620 non-null   float64\n",
      " 13  liveness             1620 non-null   float64\n",
      " 14  valence              1620 non-null   float64\n",
      " 15  tempo                1620 non-null   float64\n",
      " 16  time_signature       1620 non-null   int64  \n",
      "dtypes: float64(9), int32(1), int64(6), object(1)\n",
      "memory usage: 221.5+ KB\n"
     ]
    }
   ],
   "source": [
    "X_train.info()"
   ]
  },
  {
   "cell_type": "markdown",
   "metadata": {},
   "source": [
    "Aggregate statistics on numeric features:"
   ]
  },
  {
   "cell_type": "code",
   "execution_count": 10,
   "metadata": {},
   "outputs": [
    {
     "data": {
      "text/html": [
       "<div>\n",
       "<style scoped>\n",
       "    .dataframe tbody tr th:only-of-type {\n",
       "        vertical-align: middle;\n",
       "    }\n",
       "\n",
       "    .dataframe tbody tr th {\n",
       "        vertical-align: top;\n",
       "    }\n",
       "\n",
       "    .dataframe thead th {\n",
       "        text-align: right;\n",
       "    }\n",
       "</style>\n",
       "<table border=\"1\" class=\"dataframe\">\n",
       "  <thead>\n",
       "    <tr style=\"text-align: right;\">\n",
       "      <th></th>\n",
       "      <th>duration_ms</th>\n",
       "      <th>years_since_release</th>\n",
       "      <th>popularity</th>\n",
       "      <th>danceability</th>\n",
       "      <th>energy</th>\n",
       "      <th>loudness</th>\n",
       "      <th>speechiness</th>\n",
       "      <th>acousticness</th>\n",
       "      <th>instrumentalness</th>\n",
       "      <th>liveness</th>\n",
       "      <th>valence</th>\n",
       "      <th>tempo</th>\n",
       "    </tr>\n",
       "  </thead>\n",
       "  <tbody>\n",
       "    <tr>\n",
       "      <th>count</th>\n",
       "      <td>1.620000e+03</td>\n",
       "      <td>1620.000000</td>\n",
       "      <td>1620.000000</td>\n",
       "      <td>1620.000000</td>\n",
       "      <td>1620.000000</td>\n",
       "      <td>1620.000000</td>\n",
       "      <td>1620.000000</td>\n",
       "      <td>1620.000000</td>\n",
       "      <td>1620.000000</td>\n",
       "      <td>1620.000000</td>\n",
       "      <td>1620.000000</td>\n",
       "      <td>1620.000000</td>\n",
       "    </tr>\n",
       "    <tr>\n",
       "      <th>mean</th>\n",
       "      <td>2.451472e+05</td>\n",
       "      <td>13.219136</td>\n",
       "      <td>49.556173</td>\n",
       "      <td>0.525462</td>\n",
       "      <td>0.523461</td>\n",
       "      <td>-10.864462</td>\n",
       "      <td>0.080465</td>\n",
       "      <td>0.394254</td>\n",
       "      <td>0.248066</td>\n",
       "      <td>0.168676</td>\n",
       "      <td>0.425837</td>\n",
       "      <td>117.687157</td>\n",
       "    </tr>\n",
       "    <tr>\n",
       "      <th>std</th>\n",
       "      <td>1.137280e+05</td>\n",
       "      <td>16.705700</td>\n",
       "      <td>26.498871</td>\n",
       "      <td>0.208230</td>\n",
       "      <td>0.295647</td>\n",
       "      <td>7.452630</td>\n",
       "      <td>0.087365</td>\n",
       "      <td>0.394592</td>\n",
       "      <td>0.364314</td>\n",
       "      <td>0.127599</td>\n",
       "      <td>0.263529</td>\n",
       "      <td>30.953413</td>\n",
       "    </tr>\n",
       "    <tr>\n",
       "      <th>min</th>\n",
       "      <td>3.994400e+04</td>\n",
       "      <td>0.000000</td>\n",
       "      <td>0.000000</td>\n",
       "      <td>0.000000</td>\n",
       "      <td>0.001100</td>\n",
       "      <td>-43.738000</td>\n",
       "      <td>0.000000</td>\n",
       "      <td>0.000002</td>\n",
       "      <td>0.000000</td>\n",
       "      <td>0.024400</td>\n",
       "      <td>0.000000</td>\n",
       "      <td>0.000000</td>\n",
       "    </tr>\n",
       "    <tr>\n",
       "      <th>25%</th>\n",
       "      <td>1.797368e+05</td>\n",
       "      <td>1.000000</td>\n",
       "      <td>36.000000</td>\n",
       "      <td>0.375750</td>\n",
       "      <td>0.253750</td>\n",
       "      <td>-14.775500</td>\n",
       "      <td>0.036600</td>\n",
       "      <td>0.025350</td>\n",
       "      <td>0.000001</td>\n",
       "      <td>0.094075</td>\n",
       "      <td>0.191750</td>\n",
       "      <td>94.038250</td>\n",
       "    </tr>\n",
       "    <tr>\n",
       "      <th>50%</th>\n",
       "      <td>2.175065e+05</td>\n",
       "      <td>5.000000</td>\n",
       "      <td>55.000000</td>\n",
       "      <td>0.531000</td>\n",
       "      <td>0.578000</td>\n",
       "      <td>-7.978500</td>\n",
       "      <td>0.045900</td>\n",
       "      <td>0.206000</td>\n",
       "      <td>0.001610</td>\n",
       "      <td>0.117000</td>\n",
       "      <td>0.415500</td>\n",
       "      <td>116.582500</td>\n",
       "    </tr>\n",
       "    <tr>\n",
       "      <th>75%</th>\n",
       "      <td>2.722370e+05</td>\n",
       "      <td>20.000000</td>\n",
       "      <td>71.000000</td>\n",
       "      <td>0.683000</td>\n",
       "      <td>0.776250</td>\n",
       "      <td>-5.525000</td>\n",
       "      <td>0.077050</td>\n",
       "      <td>0.866000</td>\n",
       "      <td>0.574000</td>\n",
       "      <td>0.202000</td>\n",
       "      <td>0.630000</td>\n",
       "      <td>138.020000</td>\n",
       "    </tr>\n",
       "    <tr>\n",
       "      <th>max</th>\n",
       "      <td>1.252322e+06</td>\n",
       "      <td>95.000000</td>\n",
       "      <td>99.000000</td>\n",
       "      <td>0.980000</td>\n",
       "      <td>0.996000</td>\n",
       "      <td>-1.377000</td>\n",
       "      <td>0.856000</td>\n",
       "      <td>0.996000</td>\n",
       "      <td>0.988000</td>\n",
       "      <td>0.916000</td>\n",
       "      <td>0.975000</td>\n",
       "      <td>219.331000</td>\n",
       "    </tr>\n",
       "  </tbody>\n",
       "</table>\n",
       "</div>"
      ],
      "text/plain": [
       "        duration_ms  years_since_release   popularity  danceability  \\\n",
       "count  1.620000e+03          1620.000000  1620.000000   1620.000000   \n",
       "mean   2.451472e+05            13.219136    49.556173      0.525462   \n",
       "std    1.137280e+05            16.705700    26.498871      0.208230   \n",
       "min    3.994400e+04             0.000000     0.000000      0.000000   \n",
       "25%    1.797368e+05             1.000000    36.000000      0.375750   \n",
       "50%    2.175065e+05             5.000000    55.000000      0.531000   \n",
       "75%    2.722370e+05            20.000000    71.000000      0.683000   \n",
       "max    1.252322e+06            95.000000    99.000000      0.980000   \n",
       "\n",
       "            energy     loudness  speechiness  acousticness  instrumentalness  \\\n",
       "count  1620.000000  1620.000000  1620.000000   1620.000000       1620.000000   \n",
       "mean      0.523461   -10.864462     0.080465      0.394254          0.248066   \n",
       "std       0.295647     7.452630     0.087365      0.394592          0.364314   \n",
       "min       0.001100   -43.738000     0.000000      0.000002          0.000000   \n",
       "25%       0.253750   -14.775500     0.036600      0.025350          0.000001   \n",
       "50%       0.578000    -7.978500     0.045900      0.206000          0.001610   \n",
       "75%       0.776250    -5.525000     0.077050      0.866000          0.574000   \n",
       "max       0.996000    -1.377000     0.856000      0.996000          0.988000   \n",
       "\n",
       "          liveness      valence        tempo  \n",
       "count  1620.000000  1620.000000  1620.000000  \n",
       "mean      0.168676     0.425837   117.687157  \n",
       "std       0.127599     0.263529    30.953413  \n",
       "min       0.024400     0.000000     0.000000  \n",
       "25%       0.094075     0.191750    94.038250  \n",
       "50%       0.117000     0.415500   116.582500  \n",
       "75%       0.202000     0.630000   138.020000  \n",
       "max       0.916000     0.975000   219.331000  "
      ]
     },
     "execution_count": 10,
     "metadata": {},
     "output_type": "execute_result"
    }
   ],
   "source": [
    "X_train[scale_features].describe()"
   ]
  },
  {
   "cell_type": "markdown",
   "metadata": {},
   "source": [
    "#### Visualization\n",
    "\n",
    "We can also visualize the separation between classes based on numeric features. This is similar to how a decision tree might find splitting thresholds on certain numeric features."
   ]
  },
  {
   "cell_type": "code",
   "execution_count": 11,
   "metadata": {},
   "outputs": [],
   "source": [
    "train = X_train.join(y)\n",
    "features = scale_features\n",
    "pop_examples = train.query('genre == 0')[features]\n",
    "hip_hop_examples = train.query('genre == 1')[features]\n",
    "alt_ind_examples = train.query('genre == 2')[features]\n",
    "rock_examples = train.query('genre == 3')[features]\n",
    "jazz_examples = train.query('genre == 4')[features]\n",
    "classical_examples = train.query('genre == 5')[features]"
   ]
  },
  {
   "cell_type": "code",
   "execution_count": 12,
   "metadata": {},
   "outputs": [
    {
     "data": {
      "image/png": "[encoded data removed]",
      "text/plain": [
       "<Figure size 432x288 with 1 Axes>"
      ]
     },
     "metadata": {
      "needs_background": "light"
     },
     "output_type": "display_data"
    },
    {
     "data": {
      "image/png": "[encoded data removed]",
      "text/plain": [
       "<Figure size 432x288 with 1 Axes>"
      ]
     },
     "metadata": {
      "needs_background": "light"
     },
     "output_type": "display_data"
    },
    {
     "data": {
      "image/png": "[encoded data removed]",
      "text/plain": [
       "<Figure size 432x288 with 1 Axes>"
      ]
     },
     "metadata": {
      "needs_background": "light"
     },
     "output_type": "display_data"
    },
    {
     "data": {
      "image/png": "[encoded data removed]",
      "text/plain": [
       "<Figure size 432x288 with 1 Axes>"
      ]
     },
     "metadata": {
      "needs_background": "light"
     },
     "output_type": "display_data"
    },
    {
     "data": {
      "image/png": "[encoded data removed]",
      "text/plain": [
       "<Figure size 432x288 with 1 Axes>"
      ]
     },
     "metadata": {
      "needs_background": "light"
     },
     "output_type": "display_data"
    },
    {
     "data": {
      "image/png": "[encoded data removed]",
      "text/plain": [
       "<Figure size 432x288 with 1 Axes>"
      ]
     },
     "metadata": {
      "needs_background": "light"
     },
     "output_type": "display_data"
    },
    {
     "data": {
      "image/png": "[encoded data removed]",
      "text/plain": [
       "<Figure size 432x288 with 1 Axes>"
      ]
     },
     "metadata": {
      "needs_background": "light"
     },
     "output_type": "display_data"
    },
    {
     "data": {
      "image/png": "[encoded data removed]",
      "text/plain": [
       "<Figure size 432x288 with 1 Axes>"
      ]
     },
     "metadata": {
      "needs_background": "light"
     },
     "output_type": "display_data"
    },
    {
     "data": {
      "image/png": "[encoded data removed]",
      "text/plain": [
       "<Figure size 432x288 with 1 Axes>"
      ]
     },
     "metadata": {
      "needs_background": "light"
     },
     "output_type": "display_data"
    },
    {
     "data": {
      "image/png": "[encoded data removed]",
      "text/plain": [
       "<Figure size 432x288 with 1 Axes>"
      ]
     },
     "metadata": {
      "needs_background": "light"
     },
     "output_type": "display_data"
    },
    {
     "data": {
      "image/png": "[encoded data removed]",
      "text/plain": [
       "<Figure size 432x288 with 1 Axes>"
      ]
     },
     "metadata": {
      "needs_background": "light"
     },
     "output_type": "display_data"
    },
    {
     "data": {
      "image/png": "[encoded data removed]",
      "text/plain": [
       "<Figure size 432x288 with 1 Axes>"
      ]
     },
     "metadata": {
      "needs_background": "light"
     },
     "output_type": "display_data"
    }
   ],
   "source": [
    "ALPHA = 0.35\n",
    "def plot_feature_hist(pop_examples, hip_hop_examples, alt_ind_examples,\n",
    "                      rock_examples, jazz_examples, classical_examples,\n",
    "                      feature):\n",
    "    plt.hist(rock_examples[feature], bins=70, color='tab:brown', label='Rock/Metal', alpha=ALPHA)\n",
    "    plt.hist(classical_examples[feature], bins=70, color='tab:blue', label='Classical', alpha=ALPHA)\n",
    "    plt.hist(jazz_examples[feature], bins=70, color='tab:purple', label='Jazz', alpha=ALPHA)\n",
    "    plt.hist(pop_examples[feature], bins=70, color='tab:red', label='Pop', alpha=ALPHA)\n",
    "    plt.hist(hip_hop_examples[feature], bins=70, color='tab:green', label='Hip-Hop/Rap', alpha=ALPHA)\n",
    "    plt.hist(alt_ind_examples[feature], bins=70, color='tab:pink', label='Alt/Indie', alpha=ALPHA)\n",
    "    plt.xlabel(feature)\n",
    "    plt.ylabel('count')\n",
    "    plt.title('Histogram of ' + feature + ' by genre')\n",
    "    plt.legend(loc='best') \n",
    "\n",
    "for f in features:\n",
    "    plot_feature_hist(pop_examples, hip_hop_examples, alt_ind_examples,\n",
    "                      rock_examples, jazz_examples, classical_examples,\n",
    "                      f)\n",
    "    plt.show()"
   ]
  },
  {
   "cell_type": "markdown",
   "metadata": {},
   "source": [
    "### Preprocessing ⏳\n",
    "\n",
    "To prepare our data for supervised learning, we preprocess certain features and ensure the data has been transformed successfully.\n",
    "\n",
    "In particular, we want to scale numeric features with `StandardScaler` to ensure differences in magnitude do not affect the model. This might be unnecessary for certain features that are already quie small (between 0 and 1) but is good practice nonetheless.\n",
    "\n",
    "We also want to use `CountVectorizer` to count occurrances of key words in the `artist_genres` feature, as they are likely helpful in categorizing the true genre of the track.\n",
    "* `max_features`: The maximum number of words to vectorize\n",
    "* `stop_words`: Ignore-list of words\n",
    "\n",
    "`ColumnTransformer` allows us to perform these transformation steps side-by-side, while passing through the remaining features."
   ]
  },
  {
   "cell_type": "code",
   "execution_count": 13,
   "metadata": {},
   "outputs": [
    {
     "data": {
      "text/html": [
       "<div>\n",
       "<style scoped>\n",
       "    .dataframe tbody tr th:only-of-type {\n",
       "        vertical-align: middle;\n",
       "    }\n",
       "\n",
       "    .dataframe tbody tr th {\n",
       "        vertical-align: top;\n",
       "    }\n",
       "\n",
       "    .dataframe thead th {\n",
       "        text-align: right;\n",
       "    }\n",
       "</style>\n",
       "<table border=\"1\" class=\"dataframe\">\n",
       "  <thead>\n",
       "    <tr style=\"text-align: right;\">\n",
       "      <th></th>\n",
       "      <th>artist_genres_alternative</th>\n",
       "      <th>artist_genres_baroque</th>\n",
       "      <th>artist_genres_canadian</th>\n",
       "      <th>artist_genres_classical</th>\n",
       "      <th>artist_genres_dance</th>\n",
       "      <th>artist_genres_era</th>\n",
       "      <th>artist_genres_hip</th>\n",
       "      <th>artist_genres_hop</th>\n",
       "      <th>artist_genres_indie</th>\n",
       "      <th>artist_genres_jazz</th>\n",
       "      <th>...</th>\n",
       "      <th>speechiness</th>\n",
       "      <th>acousticness</th>\n",
       "      <th>instrumentalness</th>\n",
       "      <th>liveness</th>\n",
       "      <th>valence</th>\n",
       "      <th>tempo</th>\n",
       "      <th>explicit</th>\n",
       "      <th>key</th>\n",
       "      <th>mode</th>\n",
       "      <th>time_signature</th>\n",
       "    </tr>\n",
       "  </thead>\n",
       "  <tbody>\n",
       "    <tr>\n",
       "      <th>0</th>\n",
       "      <td>0.0</td>\n",
       "      <td>0.0</td>\n",
       "      <td>0.0</td>\n",
       "      <td>0.0</td>\n",
       "      <td>0.0</td>\n",
       "      <td>0.0</td>\n",
       "      <td>1.0</td>\n",
       "      <td>1.0</td>\n",
       "      <td>0.0</td>\n",
       "      <td>0.0</td>\n",
       "      <td>...</td>\n",
       "      <td>1.723587</td>\n",
       "      <td>-0.968270</td>\n",
       "      <td>-0.681123</td>\n",
       "      <td>1.084382</td>\n",
       "      <td>0.346037</td>\n",
       "      <td>0.526238</td>\n",
       "      <td>1.0</td>\n",
       "      <td>2.0</td>\n",
       "      <td>1.0</td>\n",
       "      <td>4.0</td>\n",
       "    </tr>\n",
       "    <tr>\n",
       "      <th>1</th>\n",
       "      <td>0.0</td>\n",
       "      <td>0.0</td>\n",
       "      <td>0.0</td>\n",
       "      <td>0.0</td>\n",
       "      <td>0.0</td>\n",
       "      <td>0.0</td>\n",
       "      <td>0.0</td>\n",
       "      <td>0.0</td>\n",
       "      <td>0.0</td>\n",
       "      <td>4.0</td>\n",
       "      <td>...</td>\n",
       "      <td>-0.574383</td>\n",
       "      <td>1.206037</td>\n",
       "      <td>1.921831</td>\n",
       "      <td>-0.538384</td>\n",
       "      <td>-1.028049</td>\n",
       "      <td>0.996768</td>\n",
       "      <td>0.0</td>\n",
       "      <td>0.0</td>\n",
       "      <td>1.0</td>\n",
       "      <td>4.0</td>\n",
       "    </tr>\n",
       "    <tr>\n",
       "      <th>2</th>\n",
       "      <td>3.0</td>\n",
       "      <td>0.0</td>\n",
       "      <td>1.0</td>\n",
       "      <td>0.0</td>\n",
       "      <td>2.0</td>\n",
       "      <td>0.0</td>\n",
       "      <td>0.0</td>\n",
       "      <td>0.0</td>\n",
       "      <td>1.0</td>\n",
       "      <td>0.0</td>\n",
       "      <td>...</td>\n",
       "      <td>-0.214860</td>\n",
       "      <td>-0.999397</td>\n",
       "      <td>-0.670168</td>\n",
       "      <td>0.661052</td>\n",
       "      <td>-0.462472</td>\n",
       "      <td>0.561173</td>\n",
       "      <td>0.0</td>\n",
       "      <td>5.0</td>\n",
       "      <td>0.0</td>\n",
       "      <td>4.0</td>\n",
       "    </tr>\n",
       "    <tr>\n",
       "      <th>3</th>\n",
       "      <td>0.0</td>\n",
       "      <td>0.0</td>\n",
       "      <td>0.0</td>\n",
       "      <td>0.0</td>\n",
       "      <td>0.0</td>\n",
       "      <td>0.0</td>\n",
       "      <td>0.0</td>\n",
       "      <td>0.0</td>\n",
       "      <td>1.0</td>\n",
       "      <td>0.0</td>\n",
       "      <td>...</td>\n",
       "      <td>-0.198830</td>\n",
       "      <td>-0.005714</td>\n",
       "      <td>-0.681116</td>\n",
       "      <td>-0.420793</td>\n",
       "      <td>0.699049</td>\n",
       "      <td>-0.895175</td>\n",
       "      <td>0.0</td>\n",
       "      <td>7.0</td>\n",
       "      <td>1.0</td>\n",
       "      <td>4.0</td>\n",
       "    </tr>\n",
       "    <tr>\n",
       "      <th>4</th>\n",
       "      <td>1.0</td>\n",
       "      <td>0.0</td>\n",
       "      <td>0.0</td>\n",
       "      <td>0.0</td>\n",
       "      <td>0.0</td>\n",
       "      <td>0.0</td>\n",
       "      <td>0.0</td>\n",
       "      <td>0.0</td>\n",
       "      <td>0.0</td>\n",
       "      <td>0.0</td>\n",
       "      <td>...</td>\n",
       "      <td>0.008411</td>\n",
       "      <td>-0.997800</td>\n",
       "      <td>-0.542189</td>\n",
       "      <td>0.904074</td>\n",
       "      <td>0.277713</td>\n",
       "      <td>2.015839</td>\n",
       "      <td>1.0</td>\n",
       "      <td>1.0</td>\n",
       "      <td>1.0</td>\n",
       "      <td>4.0</td>\n",
       "    </tr>\n",
       "  </tbody>\n",
       "</table>\n",
       "<p>5 rows × 36 columns</p>\n",
       "</div>"
      ],
      "text/plain": [
       "   artist_genres_alternative  artist_genres_baroque  artist_genres_canadian  \\\n",
       "0                        0.0                    0.0                     0.0   \n",
       "1                        0.0                    0.0                     0.0   \n",
       "2                        3.0                    0.0                     1.0   \n",
       "3                        0.0                    0.0                     0.0   \n",
       "4                        1.0                    0.0                     0.0   \n",
       "\n",
       "   artist_genres_classical  artist_genres_dance  artist_genres_era  \\\n",
       "0                      0.0                  0.0                0.0   \n",
       "1                      0.0                  0.0                0.0   \n",
       "2                      0.0                  2.0                0.0   \n",
       "3                      0.0                  0.0                0.0   \n",
       "4                      0.0                  0.0                0.0   \n",
       "\n",
       "   artist_genres_hip  artist_genres_hop  artist_genres_indie  \\\n",
       "0                1.0                1.0                  0.0   \n",
       "1                0.0                0.0                  0.0   \n",
       "2                0.0                0.0                  1.0   \n",
       "3                0.0                0.0                  1.0   \n",
       "4                0.0                0.0                  0.0   \n",
       "\n",
       "   artist_genres_jazz  ...  speechiness  acousticness  instrumentalness  \\\n",
       "0                 0.0  ...     1.723587     -0.968270         -0.681123   \n",
       "1                 4.0  ...    -0.574383      1.206037          1.921831   \n",
       "2                 0.0  ...    -0.214860     -0.999397         -0.670168   \n",
       "3                 0.0  ...    -0.198830     -0.005714         -0.681116   \n",
       "4                 0.0  ...     0.008411     -0.997800         -0.542189   \n",
       "\n",
       "   liveness   valence     tempo  explicit  key  mode  time_signature  \n",
       "0  1.084382  0.346037  0.526238       1.0  2.0   1.0             4.0  \n",
       "1 -0.538384 -1.028049  0.996768       0.0  0.0   1.0             4.0  \n",
       "2  0.661052 -0.462472  0.561173       0.0  5.0   0.0             4.0  \n",
       "3 -0.420793  0.699049 -0.895175       0.0  7.0   1.0             4.0  \n",
       "4  0.904074  0.277713  2.015839       1.0  1.0   1.0             4.0  \n",
       "\n",
       "[5 rows x 36 columns]"
      ]
     },
     "execution_count": 13,
     "metadata": {},
     "output_type": "execute_result"
    }
   ],
   "source": [
    "preproc = ColumnTransformer([\n",
    "    ('text', CountVectorizer(max_features=20, stop_words='english'), 'artist_genres'),\n",
    "    ('scale', StandardScaler(), scale_features)\n",
    "], remainder='passthrough')\n",
    "\n",
    "preproc.fit(X_train)\n",
    "cols_from_text = ['artist_genres_' + word for word in preproc.named_transformers_['text'].get_feature_names()]\n",
    "X_train_preproc = pd.DataFrame(data=preproc.transform(X_train), columns=cols_from_text+scale_features+passthrough_features)\n",
    "X_train_preproc.head()"
   ]
  },
  {
   "cell_type": "markdown",
   "metadata": {},
   "source": [
    "### Candidate Models ⚛\n",
    "\n",
    "#### Dummy Classifier\n",
    "\n",
    "A classifier that naively picks the most popular class."
   ]
  },
  {
   "cell_type": "code",
   "execution_count": 14,
   "metadata": {},
   "outputs": [
    {
     "data": {
      "text/plain": [
       "2    374\n",
       "5    330\n",
       "3    268\n",
       "0    260\n",
       "4    194\n",
       "1    194\n",
       "Name: genre, dtype: int64"
      ]
     },
     "execution_count": 14,
     "metadata": {},
     "output_type": "execute_result"
    }
   ],
   "source": [
    "y_train.value_counts()"
   ]
  },
  {
   "cell_type": "markdown",
   "metadata": {},
   "source": [
    "In this case, `DummyClassifier` will always predict class 2, which represents ~23% of the training data."
   ]
  },
  {
   "cell_type": "code",
   "execution_count": 15,
   "metadata": {},
   "outputs": [
    {
     "name": "stdout",
     "output_type": "stream",
     "text": [
      "Cross-validation Score: 0.2308641975308642\n"
     ]
    }
   ],
   "source": [
    "dc = DummyClassifier(strategy='prior')\n",
    "dc_pipe = Pipeline([('preproc', preproc),\n",
    "                    ('dc', dc)])\n",
    "print(f'Cross-validation Score: {cross_validate(dc_pipe, X_train, y_train, return_train_score=True)[\"test_score\"].mean()}')"
   ]
  },
  {
   "cell_type": "markdown",
   "metadata": {},
   "source": [
    "#### Logistic Regression\n",
    "\n",
    "A basic linear classifier, where `max_iter` represents the maximum number of iterations of gradient descent allowed."
   ]
  },
  {
   "cell_type": "code",
   "execution_count": 16,
   "metadata": {},
   "outputs": [
    {
     "name": "stdout",
     "output_type": "stream",
     "text": [
      "Cross-validation Score: 0.8487654320987653\n"
     ]
    }
   ],
   "source": [
    "lr = LogisticRegression(max_iter=10000)\n",
    "lr_pipe = Pipeline([('preproc', preproc),\n",
    "                    ('lr', lr)])\n",
    "print(f'Cross-validation Score: {cross_validate(lr_pipe, X_train, y_train, return_train_score=True)[\"test_score\"].mean()}')"
   ]
  },
  {
   "cell_type": "markdown",
   "metadata": {},
   "source": [
    "#### LGBM Classifier\n",
    "\n",
    "A gradient-boosting algorithm that grows trees leaf-wise instead of level-wise, good for large datasets and fast computations."
   ]
  },
  {
   "cell_type": "code",
   "execution_count": 17,
   "metadata": {},
   "outputs": [
    {
     "name": "stdout",
     "output_type": "stream",
     "text": [
      "Cross-validation Score: 0.8537037037037039\n"
     ]
    }
   ],
   "source": [
    "lgbm = LGBMClassifier(random_state=123)\n",
    "lgbm_pipe = Pipeline([('preproc', preproc),\n",
    "                      ('lgbm', lgbm)])\n",
    "print(f'Cross-validation Score: {cross_validate(lgbm_pipe, X_train, y_train, return_train_score=True)[\"test_score\"].mean()}')"
   ]
  },
  {
   "cell_type": "markdown",
   "metadata": {},
   "source": [
    "#### Random Forest Classifier"
   ]
  },
  {
   "cell_type": "markdown",
   "metadata": {},
   "source": [
    "An ensemble algorithm that takes the majority vote of randomly trained decision trees."
   ]
  },
  {
   "cell_type": "code",
   "execution_count": 18,
   "metadata": {},
   "outputs": [
    {
     "name": "stdout",
     "output_type": "stream",
     "text": [
      "Cross-validation Score: 0.8629629629629629\n"
     ]
    }
   ],
   "source": [
    "rf = RandomForestClassifier(random_state=123, n_jobs=-1)\n",
    "rf_pipe = Pipeline([('preproc', preproc),\n",
    "                    ('rf', rf)])\n",
    "print(f'Cross-validation Score: {cross_validate(rf_pipe, X_train, y_train, return_train_score=True)[\"test_score\"].mean()}')"
   ]
  },
  {
   "cell_type": "markdown",
   "metadata": {},
   "source": [
    "### Hyperparameter Tuning 🎛\n",
    "\n",
    "Let's choose the Random Forest Classifier to optimize, since it takes advantage of decision trees (which can capture non-linear trends), and had quite a high cross-validation accuracy (although it is dubious whether this is significant). We'll look at three parameters:\n",
    "* `rf__n_estimators`: The number of decision trees in the forest\n",
    "* `rf__max_depth`: The maximum depth of a decision tree\n",
    "* `preproc__text__max_features`: The max number of features added by the `CountVectorizer`"
   ]
  },
  {
   "cell_type": "markdown",
   "metadata": {},
   "source": [
    "#### Grid Search"
   ]
  },
  {
   "cell_type": "markdown",
   "metadata": {},
   "source": [
    "A searcher that searches each unique possible combination of a fixed parameter grid."
   ]
  },
  {
   "cell_type": "code",
   "execution_count": 19,
   "metadata": {},
   "outputs": [
    {
     "name": "stdout",
     "output_type": "stream",
     "text": [
      "Fitting 10 folds for each of 189 candidates, totalling 1890 fits\n"
     ]
    },
    {
     "name": "stderr",
     "output_type": "stream",
     "text": [
      "[Parallel(n_jobs=-1)]: Using backend LokyBackend with 16 concurrent workers.\n",
      "[Parallel(n_jobs=-1)]: Done   9 tasks      | elapsed:    0.4s\n",
      "[Parallel(n_jobs=-1)]: Done 130 tasks      | elapsed:    2.0s\n",
      "[Parallel(n_jobs=-1)]: Done 333 tasks      | elapsed:    5.3s\n",
      "[Parallel(n_jobs=-1)]: Done 616 tasks      | elapsed:   11.3s\n",
      "[Parallel(n_jobs=-1)]: Done 981 tasks      | elapsed:   17.6s\n",
      "[Parallel(n_jobs=-1)]: Done 1426 tasks      | elapsed:   25.9s\n",
      "[Parallel(n_jobs=-1)]: Done 1890 out of 1890 | elapsed:   35.5s finished\n"
     ]
    },
    {
     "data": {
      "text/html": [
       "<div>\n",
       "<style scoped>\n",
       "    .dataframe tbody tr th:only-of-type {\n",
       "        vertical-align: middle;\n",
       "    }\n",
       "\n",
       "    .dataframe tbody tr th {\n",
       "        vertical-align: top;\n",
       "    }\n",
       "\n",
       "    .dataframe thead th {\n",
       "        text-align: right;\n",
       "    }\n",
       "</style>\n",
       "<table border=\"1\" class=\"dataframe\">\n",
       "  <thead>\n",
       "    <tr style=\"text-align: right;\">\n",
       "      <th></th>\n",
       "      <th>mean_test_score</th>\n",
       "      <th>std_test_score</th>\n",
       "      <th>param_rf__n_estimators</th>\n",
       "      <th>param_rf__max_depth</th>\n",
       "      <th>param_preproc__text__max_features</th>\n",
       "      <th>mean_fit_time</th>\n",
       "    </tr>\n",
       "    <tr>\n",
       "      <th>rank_test_score</th>\n",
       "      <th></th>\n",
       "      <th></th>\n",
       "      <th></th>\n",
       "      <th></th>\n",
       "      <th></th>\n",
       "      <th></th>\n",
       "    </tr>\n",
       "  </thead>\n",
       "  <tbody>\n",
       "    <tr>\n",
       "      <th>1</th>\n",
       "      <td>0.869136</td>\n",
       "      <td>0.022393</td>\n",
       "      <td>128</td>\n",
       "      <td>8</td>\n",
       "      <td>15</td>\n",
       "      <td>0.429000</td>\n",
       "    </tr>\n",
       "    <tr>\n",
       "      <th>2</th>\n",
       "      <td>0.866049</td>\n",
       "      <td>0.026196</td>\n",
       "      <td>264</td>\n",
       "      <td>8</td>\n",
       "      <td>20</td>\n",
       "      <td>0.878001</td>\n",
       "    </tr>\n",
       "    <tr>\n",
       "      <th>3</th>\n",
       "      <td>0.865432</td>\n",
       "      <td>0.025719</td>\n",
       "      <td>264</td>\n",
       "      <td>64</td>\n",
       "      <td>20</td>\n",
       "      <td>0.901900</td>\n",
       "    </tr>\n",
       "    <tr>\n",
       "      <th>3</th>\n",
       "      <td>0.865432</td>\n",
       "      <td>0.025719</td>\n",
       "      <td>264</td>\n",
       "      <td>32</td>\n",
       "      <td>20</td>\n",
       "      <td>0.972901</td>\n",
       "    </tr>\n",
       "    <tr>\n",
       "      <th>5</th>\n",
       "      <td>0.864815</td>\n",
       "      <td>0.020924</td>\n",
       "      <td>64</td>\n",
       "      <td>8</td>\n",
       "      <td>15</td>\n",
       "      <td>0.240700</td>\n",
       "    </tr>\n",
       "    <tr>\n",
       "      <th>6</th>\n",
       "      <td>0.864198</td>\n",
       "      <td>0.022427</td>\n",
       "      <td>264</td>\n",
       "      <td>32</td>\n",
       "      <td>15</td>\n",
       "      <td>0.916100</td>\n",
       "    </tr>\n",
       "    <tr>\n",
       "      <th>6</th>\n",
       "      <td>0.864198</td>\n",
       "      <td>0.022427</td>\n",
       "      <td>264</td>\n",
       "      <td>64</td>\n",
       "      <td>15</td>\n",
       "      <td>0.960600</td>\n",
       "    </tr>\n",
       "    <tr>\n",
       "      <th>6</th>\n",
       "      <td>0.864198</td>\n",
       "      <td>0.018312</td>\n",
       "      <td>128</td>\n",
       "      <td>8</td>\n",
       "      <td>20</td>\n",
       "      <td>0.439100</td>\n",
       "    </tr>\n",
       "    <tr>\n",
       "      <th>9</th>\n",
       "      <td>0.863580</td>\n",
       "      <td>0.022503</td>\n",
       "      <td>264</td>\n",
       "      <td>8</td>\n",
       "      <td>15</td>\n",
       "      <td>0.869200</td>\n",
       "    </tr>\n",
       "    <tr>\n",
       "      <th>10</th>\n",
       "      <td>0.862963</td>\n",
       "      <td>0.023715</td>\n",
       "      <td>64</td>\n",
       "      <td>16</td>\n",
       "      <td>20</td>\n",
       "      <td>0.251999</td>\n",
       "    </tr>\n",
       "  </tbody>\n",
       "</table>\n",
       "</div>"
      ],
      "text/plain": [
       "                 mean_test_score  std_test_score param_rf__n_estimators  \\\n",
       "rank_test_score                                                           \n",
       "1                       0.869136        0.022393                    128   \n",
       "2                       0.866049        0.026196                    264   \n",
       "3                       0.865432        0.025719                    264   \n",
       "3                       0.865432        0.025719                    264   \n",
       "5                       0.864815        0.020924                     64   \n",
       "6                       0.864198        0.022427                    264   \n",
       "6                       0.864198        0.022427                    264   \n",
       "6                       0.864198        0.018312                    128   \n",
       "9                       0.863580        0.022503                    264   \n",
       "10                      0.862963        0.023715                     64   \n",
       "\n",
       "                param_rf__max_depth param_preproc__text__max_features  \\\n",
       "rank_test_score                                                         \n",
       "1                                 8                                15   \n",
       "2                                 8                                20   \n",
       "3                                64                                20   \n",
       "3                                32                                20   \n",
       "5                                 8                                15   \n",
       "6                                32                                15   \n",
       "6                                64                                15   \n",
       "6                                 8                                20   \n",
       "9                                 8                                15   \n",
       "10                               16                                20   \n",
       "\n",
       "                 mean_fit_time  \n",
       "rank_test_score                 \n",
       "1                     0.429000  \n",
       "2                     0.878001  \n",
       "3                     0.901900  \n",
       "3                     0.972901  \n",
       "5                     0.240700  \n",
       "6                     0.916100  \n",
       "6                     0.960600  \n",
       "6                     0.439100  \n",
       "9                     0.869200  \n",
       "10                    0.251999  "
      ]
     },
     "execution_count": 19,
     "metadata": {},
     "output_type": "execute_result"
    }
   ],
   "source": [
    "params = {\n",
    "    'rf__n_estimators' : [1, 2, 4, 8, 16, 32, 64, 128, 264],\n",
    "    'rf__max_depth': [1, 2, 4, 8, 16, 32, 64],\n",
    "    'preproc__text__max_features': [10, 15, 20]\n",
    "}\n",
    "\n",
    "grid_search = GridSearchCV(rf_pipe, params, verbose=2, n_jobs=-1, cv=10)\n",
    "\n",
    "grid_search.fit(X_train, y_train)\n",
    "pd.DataFrame(grid_search.cv_results_)[['mean_test_score', 'std_test_score', 'param_rf__n_estimators', 'param_rf__max_depth', 'param_preproc__text__max_features', 'mean_fit_time', 'rank_test_score']].set_index('rank_test_score').sort_index().head(10)"
   ]
  },
  {
   "cell_type": "markdown",
   "metadata": {},
   "source": [
    "#### Random Search"
   ]
  },
  {
   "cell_type": "markdown",
   "metadata": {},
   "source": [
    "A searcher that randomly chooses combinations given a set of parameters to optimize."
   ]
  },
  {
   "cell_type": "code",
   "execution_count": 20,
   "metadata": {},
   "outputs": [
    {
     "name": "stdout",
     "output_type": "stream",
     "text": [
      "Fitting 10 folds for each of 120 candidates, totalling 1200 fits\n"
     ]
    },
    {
     "name": "stderr",
     "output_type": "stream",
     "text": [
      "[Parallel(n_jobs=-1)]: Using backend LokyBackend with 16 concurrent workers.\n",
      "[Parallel(n_jobs=-1)]: Done  18 tasks      | elapsed:    1.2s\n",
      "[Parallel(n_jobs=-1)]: Done 168 tasks      | elapsed:    7.9s\n",
      "[Parallel(n_jobs=-1)]: Done 418 tasks      | elapsed:   18.0s\n",
      "[Parallel(n_jobs=-1)]: Done 768 tasks      | elapsed:   33.7s\n",
      "[Parallel(n_jobs=-1)]: Done 1200 out of 1200 | elapsed:   50.5s finished\n"
     ]
    },
    {
     "data": {
      "text/html": [
       "<div>\n",
       "<style scoped>\n",
       "    .dataframe tbody tr th:only-of-type {\n",
       "        vertical-align: middle;\n",
       "    }\n",
       "\n",
       "    .dataframe tbody tr th {\n",
       "        vertical-align: top;\n",
       "    }\n",
       "\n",
       "    .dataframe thead th {\n",
       "        text-align: right;\n",
       "    }\n",
       "</style>\n",
       "<table border=\"1\" class=\"dataframe\">\n",
       "  <thead>\n",
       "    <tr style=\"text-align: right;\">\n",
       "      <th></th>\n",
       "      <th>mean_test_score</th>\n",
       "      <th>std_test_score</th>\n",
       "      <th>param_rf__n_estimators</th>\n",
       "      <th>param_rf__max_depth</th>\n",
       "      <th>param_preproc__text__max_features</th>\n",
       "      <th>mean_fit_time</th>\n",
       "    </tr>\n",
       "    <tr>\n",
       "      <th>rank_test_score</th>\n",
       "      <th></th>\n",
       "      <th></th>\n",
       "      <th></th>\n",
       "      <th></th>\n",
       "      <th></th>\n",
       "      <th></th>\n",
       "    </tr>\n",
       "  </thead>\n",
       "  <tbody>\n",
       "    <tr>\n",
       "      <th>1</th>\n",
       "      <td>0.866667</td>\n",
       "      <td>0.021060</td>\n",
       "      <td>192</td>\n",
       "      <td>20</td>\n",
       "      <td>19</td>\n",
       "      <td>0.609900</td>\n",
       "    </tr>\n",
       "    <tr>\n",
       "      <th>2</th>\n",
       "      <td>0.866049</td>\n",
       "      <td>0.021392</td>\n",
       "      <td>213</td>\n",
       "      <td>62</td>\n",
       "      <td>14</td>\n",
       "      <td>0.923100</td>\n",
       "    </tr>\n",
       "    <tr>\n",
       "      <th>3</th>\n",
       "      <td>0.866049</td>\n",
       "      <td>0.019724</td>\n",
       "      <td>236</td>\n",
       "      <td>57</td>\n",
       "      <td>17</td>\n",
       "      <td>0.783698</td>\n",
       "    </tr>\n",
       "    <tr>\n",
       "      <th>3</th>\n",
       "      <td>0.866049</td>\n",
       "      <td>0.020107</td>\n",
       "      <td>205</td>\n",
       "      <td>57</td>\n",
       "      <td>19</td>\n",
       "      <td>0.748699</td>\n",
       "    </tr>\n",
       "    <tr>\n",
       "      <th>5</th>\n",
       "      <td>0.865432</td>\n",
       "      <td>0.026878</td>\n",
       "      <td>250</td>\n",
       "      <td>59</td>\n",
       "      <td>12</td>\n",
       "      <td>0.949100</td>\n",
       "    </tr>\n",
       "    <tr>\n",
       "      <th>5</th>\n",
       "      <td>0.865432</td>\n",
       "      <td>0.022222</td>\n",
       "      <td>184</td>\n",
       "      <td>40</td>\n",
       "      <td>19</td>\n",
       "      <td>0.834100</td>\n",
       "    </tr>\n",
       "    <tr>\n",
       "      <th>5</th>\n",
       "      <td>0.865432</td>\n",
       "      <td>0.026160</td>\n",
       "      <td>234</td>\n",
       "      <td>22</td>\n",
       "      <td>12</td>\n",
       "      <td>0.982400</td>\n",
       "    </tr>\n",
       "    <tr>\n",
       "      <th>5</th>\n",
       "      <td>0.865432</td>\n",
       "      <td>0.023554</td>\n",
       "      <td>186</td>\n",
       "      <td>31</td>\n",
       "      <td>15</td>\n",
       "      <td>0.745800</td>\n",
       "    </tr>\n",
       "    <tr>\n",
       "      <th>5</th>\n",
       "      <td>0.865432</td>\n",
       "      <td>0.019086</td>\n",
       "      <td>226</td>\n",
       "      <td>9</td>\n",
       "      <td>18</td>\n",
       "      <td>0.810199</td>\n",
       "    </tr>\n",
       "    <tr>\n",
       "      <th>5</th>\n",
       "      <td>0.865432</td>\n",
       "      <td>0.022393</td>\n",
       "      <td>272</td>\n",
       "      <td>9</td>\n",
       "      <td>12</td>\n",
       "      <td>0.831399</td>\n",
       "    </tr>\n",
       "  </tbody>\n",
       "</table>\n",
       "</div>"
      ],
      "text/plain": [
       "                 mean_test_score  std_test_score param_rf__n_estimators  \\\n",
       "rank_test_score                                                           \n",
       "1                       0.866667        0.021060                    192   \n",
       "2                       0.866049        0.021392                    213   \n",
       "3                       0.866049        0.019724                    236   \n",
       "3                       0.866049        0.020107                    205   \n",
       "5                       0.865432        0.026878                    250   \n",
       "5                       0.865432        0.022222                    184   \n",
       "5                       0.865432        0.026160                    234   \n",
       "5                       0.865432        0.023554                    186   \n",
       "5                       0.865432        0.019086                    226   \n",
       "5                       0.865432        0.022393                    272   \n",
       "\n",
       "                param_rf__max_depth param_preproc__text__max_features  \\\n",
       "rank_test_score                                                         \n",
       "1                                20                                19   \n",
       "2                                62                                14   \n",
       "3                                57                                17   \n",
       "3                                57                                19   \n",
       "5                                59                                12   \n",
       "5                                40                                19   \n",
       "5                                22                                12   \n",
       "5                                31                                15   \n",
       "5                                 9                                18   \n",
       "5                                 9                                12   \n",
       "\n",
       "                 mean_fit_time  \n",
       "rank_test_score                 \n",
       "1                     0.609900  \n",
       "2                     0.923100  \n",
       "3                     0.783698  \n",
       "3                     0.748699  \n",
       "5                     0.949100  \n",
       "5                     0.834100  \n",
       "5                     0.982400  \n",
       "5                     0.745800  \n",
       "5                     0.810199  \n",
       "5                     0.831399  "
      ]
     },
     "execution_count": 20,
     "metadata": {},
     "output_type": "execute_result"
    }
   ],
   "source": [
    "params = {\n",
    "    'rf__n_estimators' : np.arange(1, 300),\n",
    "    'rf__max_depth' : np.arange(1, 64),\n",
    "    'preproc__text__max_features': np.arange(10, 20)\n",
    "}\n",
    "\n",
    "random_search = RandomizedSearchCV(rf_pipe, params, n_iter = 120, verbose = 1, n_jobs = -1, cv=10, random_state = 123)\n",
    "\n",
    "random_search.fit(X_train, y_train)\n",
    "pd.DataFrame(random_search.cv_results_)[['mean_test_score', 'std_test_score', 'param_rf__n_estimators', 'param_rf__max_depth', 'param_preproc__text__max_features', 'mean_fit_time', 'rank_test_score']].set_index('rank_test_score').sort_index().head(10)"
   ]
  },
  {
   "cell_type": "markdown",
   "metadata": {},
   "source": [
    "### Feature Importances 📊\n",
    "\n",
    "Feature importances in Random Forests represent the average decrease in gini impurity across all features across all trees. Gini impurity represents the probability of randomly picking a datapoint, randomly classifying it according to the distribution in the dataset, and the subsequent probability of classifying it incorrectly."
   ]
  },
  {
   "cell_type": "code",
   "execution_count": 21,
   "metadata": {},
   "outputs": [
    {
     "data": {
      "image/png": "[encoded data removed]",
      "text/plain": [
       "<Figure size 432x288 with 1 Axes>"
      ]
     },
     "metadata": {
      "needs_background": "light"
     },
     "output_type": "display_data"
    }
   ],
   "source": [
    "estimator = grid_search.best_estimator_\n",
    "estimator['preproc'].fit(X_train)\n",
    "cols_from_text = ['artist_genres_' + word for word in estimator['preproc'].named_transformers_['text'].get_feature_names()]\n",
    "features = cols_from_text+scale_features+passthrough_features\n",
    "estimator.fit(X_train, y_train)\n",
    "importances = pd.DataFrame({'Importance':estimator['rf'].feature_importances_,'Feature':features}).sort_values(by=\"Importance\",ascending=False)\n",
    "top_ten_importances = importances[0:10]\n",
    "top_ten_importances.plot.barh(x='Feature', y='Importance', title='Most Important Features');"
   ]
  },
  {
   "cell_type": "markdown",
   "metadata": {},
   "source": [
    "### Evaluation 🏁"
   ]
  },
  {
   "cell_type": "markdown",
   "metadata": {},
   "source": [
    "#### Test Results\n",
    "\n",
    "We can classify genres to ~90% accuracy on test data, much improved from the naive ~23% of `DummyClassifier`."
   ]
  },
  {
   "cell_type": "code",
   "execution_count": 22,
   "metadata": {},
   "outputs": [
    {
     "name": "stdout",
     "output_type": "stream",
     "text": [
      "Final score on test data: 0.8990147783251231\n"
     ]
    }
   ],
   "source": [
    "estimator.fit(X_train, y_train)\n",
    "test_score = estimator.score(X_test, y_test)\n",
    "print(f'Final score on test data: {test_score}')"
   ]
  },
  {
   "cell_type": "markdown",
   "metadata": {},
   "source": [
    "#### Alternative Metrics\n",
    "\n",
    "However, we should also consider alternative metrics, namely:\n",
    "* `precision`: TP/(TP+FP) - Of the classified positives, how many were actually positive?\n",
    "* `recall`: TP/(TP+FN) - What % of positive examples were correctly identified?\n",
    "* `f1`: 2 \\* (precision \\* recall) / (precision + recall)"
   ]
  },
  {
   "cell_type": "code",
   "execution_count": 23,
   "metadata": {},
   "outputs": [
    {
     "name": "stdout",
     "output_type": "stream",
     "text": [
      "              precision    recall  f1-score   support\n",
      "\n",
      "         Pop       0.94      0.77      0.85        65\n",
      " Hip-Hop-Rap       0.92      1.00      0.96        49\n",
      "   Alt-Indie       0.81      0.84      0.83        94\n",
      "        Rock       0.86      0.90      0.88        67\n",
      "        Jazz       0.94      0.98      0.96        49\n",
      "   Classical       0.96      0.96      0.96        82\n",
      "\n",
      "    accuracy                           0.90       406\n",
      "   macro avg       0.91      0.91      0.91       406\n",
      "weighted avg       0.90      0.90      0.90       406\n",
      "\n"
     ]
    }
   ],
   "source": [
    "print(classification_report(y_test, estimator.predict(X_test), target_names=GENRES.keys()))"
   ]
  },
  {
   "cell_type": "markdown",
   "metadata": {},
   "source": [
    "Ultimately, it seems like our model performs quite well for all genres across all metrics; a marked improvement from the `DummyClassifier` baseline."
   ]
  },
  {
   "cell_type": "markdown",
   "metadata": {},
   "source": [
    "#### Future Improvements"
   ]
  },
  {
   "cell_type": "markdown",
   "metadata": {},
   "source": [
    "1. Better Data\n",
    " * Gather data from more playlists for each genre\n",
    " * Add new genres to be classified\n",
    " * Gather more granular audio information from the Spotify API\n",
    "2. Better Models\n",
    " * More careful feature engineering\n",
    " * Try more classifiers, look at deep learning if enough data\n",
    " * Optimize more than one classifier, spend more time training, use more powerful hardware\n",
    "3. Better Analysis\n",
    " * Visualize train/validation scores\n",
    " * Identify feature importances through SHAP values and analysis\n",
    " * Visualize confusion matrix\n",
    " * Use additional scoring metrics like Precision-Recall curves with average precision, and ROC curves with AUC\n",
    "4. Better Code\n",
    " * Refactor initial preprocessing into the preprocessing pipeline\n",
    " * Restructure into OOP\n",
    " * Write unit tests, especially to test downloader\n",
    " \n",
    "(Ultimately) Better Integration: convert data science back-end into web app for users to classify their liked songs"
   ]
  },
  {
   "cell_type": "code",
   "execution_count": null,
   "metadata": {},
   "outputs": [],
   "source": []
  }
 ],
 "metadata": {
  "kernelspec": {
   "display_name": "Python 3",
   "language": "python",
   "name": "python3"
  },
  "language_info": {
   "codemirror_mode": {
    "name": "ipython",
    "version": 3
   },
   "file_extension": ".py",
   "mimetype": "text/x-python",
   "name": "python",
   "nbconvert_exporter": "python",
   "pygments_lexer": "ipython3",
   "version": "3.8.6"
  },
  "toc-autonumbering": false,
  "toc-showcode": false,
  "toc-showmarkdowntxt": false,
  "toc-showtags": false
 },
 "nbformat": 4,
 "nbformat_minor": 4
}
